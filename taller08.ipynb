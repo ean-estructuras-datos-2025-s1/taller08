{
 "cells": [
  {
   "cell_type": "markdown",
   "metadata": {},
   "source": [
    "# Estructura de Datos\n",
    "\n",
    "\n",
    "\n",
    "### Taller 08 - Operaciones Avanzadas con Pilas\n",
    "\n",
    "Nombre del primer integrante:\n",
    "\n",
    "Nombre del segundo integrante:\n",
    "\n",
    "---"
   ]
  },
  {
   "cell_type": "markdown",
   "metadata": {
    "editable": false,
    "slideshow": {
     "slide_type": ""
    },
    "tags": []
   },
   "source": [
    "## La clase Municipio\n",
    "\n",
    "En esta primera parte del taller vamos a realizar operaciones básicas de pilas, pero con objetos de la clase Municipio, la cual ya está escrita y se muestra a continuación:\n",
    "\n",
    "![Clase Municipio](https://raw.githubusercontent.com/luiscobo/eands-20250-s1/refs/heads/main/Municipio.png)\n",
    "\n",
    "Ahora, desarrolle las siguientes funciones externas:"
   ]
  },
  {
   "cell_type": "markdown",
   "metadata": {
    "editable": false,
    "slideshow": {
     "slide_type": ""
    },
    "tags": []
   },
   "source": [
    "## Ejercicio 1 - El municipio más poblado\n",
    "\n",
    "Escriba una función externa llamada `ejercicio01` que reciba una pila de municipios (objetos de la clase anteriormente presentada) y el nombre de un departamento, y que retorne el municipio (TODO EL OBJETO MUNICIPIO) que pertenezca a ese departamento que tenga la población total más grande. Retorne `None` si no se puede encontrar tal municipio. **Tenga en cuenta que la pila original no debe verse modificada.**"
   ]
  },
  {
   "cell_type": "code",
   "execution_count": null,
   "metadata": {
    "editable": false,
    "slideshow": {
     "slide_type": ""
    },
    "tags": []
   },
   "outputs": [],
   "source": [
    "# Ejecute este código primero antes que todo para traer la clase departamento\n",
    "\n",
    "!rm ean_estructuras_datos.py\n",
    "!wget https://github.com/luiscobo/eands-20250-s1/raw/refs/heads/main/ean_estructuras_datos.py"
   ]
  },
  {
   "cell_type": "code",
   "execution_count": null,
   "metadata": {
    "editable": true,
    "slideshow": {
     "slide_type": ""
    },
    "tags": []
   },
   "outputs": [],
   "source": [
    "# Escriba la función del Ejercicio 01\n",
    "from ean_estructuras_datos import Pila, Municipio\n",
    "\n"
   ]
  },
  {
   "cell_type": "markdown",
   "metadata": {
    "editable": false,
    "slideshow": {
     "slide_type": ""
    },
    "tags": []
   },
   "source": [
    "---\n",
    "Prueba del Ejercicio 01"
   ]
  },
  {
   "cell_type": "code",
   "execution_count": null,
   "metadata": {
    "editable": false,
    "slideshow": {
     "slide_type": ""
    },
    "tags": []
   },
   "outputs": [],
   "source": [
    "import unittest\n",
    "from ean_estructuras_datos import Pila, Municipio, pila_municipios\n",
    "\n",
    "# Prueba de Ejercicio01\n",
    "class TestEjercicio01(unittest.TestCase):\n",
    "    def test_ejercicio01(self):\n",
    "        muns = pila_municipios()\n",
    "        self.assertEqual(2, ejercicio01(muns, 'Antioquia').codigo)\n",
    "        self.assertEqual(1, ejercicio01(muns, 'Cundinamarca').codigo)\n",
    "        self.assertEqual(25, ejercicio01(muns, 'La Guajira').codigo)\n",
    "        self.assertIsNone(ejercicio01(muns, 'Bogotá'))\n",
    "        self.assertEqual(186, ejercicio01(muns, 'Vichada').codigo)\n",
    "        self.assertEqual(\"Tunja\", ejercicio01(muns, 'Boyacá').nombre)\n",
    "        print('Prueba superada 😊')\n",
    "\n",
    "\n",
    "# -------------------------------------------------------\n",
    "unittest.main(argv=['', '-v', 'TestEjercicio01'], verbosity=2, exit=False);\n",
    "\n"
   ]
  },
  {
   "cell_type": "markdown",
   "metadata": {
    "editable": false,
    "slideshow": {
     "slide_type": ""
    },
    "tags": []
   },
   "source": [
    "---\n",
    "\n",
    "# Ejercicio 02 - Menor población urbana\n",
    "\n",
    "Escriba una función externa llamada `ejercicio02` que reciba una pila de municipios y una letra, y que retorne el nombre del municipio cuyo departamento termine en la letra que se recibe como parámetro y la población rural es inferior a la población urbana y donde la población urbana sea la más pequeña de todas. Retorne `None` si no se puede encontrar tal municipio. La pila original no debe verse modificada."
   ]
  },
  {
   "cell_type": "code",
   "execution_count": null,
   "metadata": {
    "editable": true,
    "slideshow": {
     "slide_type": ""
    },
    "tags": []
   },
   "outputs": [],
   "source": [
    "# Escribir el ejercicio 02\n",
    "from ean_estructuras_datos import Pila, Municipio\n",
    "\n"
   ]
  },
  {
   "cell_type": "markdown",
   "metadata": {
    "editable": false,
    "slideshow": {
     "slide_type": ""
    },
    "tags": []
   },
   "source": [
    "---\n",
    "Prueba del ejercicio 02"
   ]
  },
  {
   "cell_type": "code",
   "execution_count": null,
   "metadata": {
    "editable": false,
    "slideshow": {
     "slide_type": ""
    },
    "tags": []
   },
   "outputs": [],
   "source": [
    "import unittest\n",
    "from ean_estructuras_datos import Pila, Municipio, pila_municipios\n",
    "\n",
    "# Prueba de Ejercicio02\n",
    "class TestEjercicio02(unittest.TestCase):\n",
    "    def test_ejercicio02(self):\n",
    "        muns = pila_municipios()\n",
    "        self.assertEqual('Guataquí', ejercicio02(muns, 'a'))\n",
    "        self.assertEqual('Norcasia', ejercicio02(muns, 's'))\n",
    "        self.assertIsNone(ejercicio02(muns, 'd'))\n",
    "        self.assertEqual('California', ejercicio02(muns, 'r'))\n",
    "        print('Prueba superada 😊')\n",
    "\n",
    "\n",
    "# -------------------------------------------------------\n",
    "unittest.main(argv=['', '-v', 'TestEjercicio02'], verbosity=2, exit=False);"
   ]
  },
  {
   "cell_type": "markdown",
   "metadata": {
    "editable": false,
    "slideshow": {
     "slide_type": ""
    },
    "tags": []
   },
   "source": [
    "## Ejercicio 03 - El nombre más largo\n",
    "\n",
    "Escriba una función externa llamada `ejercicio03` que reciba una pila de municipios y el nombre de un departamento y que retorne el municipio con el nombre más largo que pertenezca a ese departamento, pero que la población urbana no supere la población rural y que no sea capital. Retorne `None` si no se encuentra ese Municipio. **La Pila original no debe verse modificada**."
   ]
  },
  {
   "cell_type": "code",
   "execution_count": null,
   "metadata": {
    "editable": true,
    "slideshow": {
     "slide_type": ""
    },
    "tags": []
   },
   "outputs": [],
   "source": [
    "from ean_estructuras_datos import Pila, Municipio\n",
    "\n",
    "# Escribir el ejercicio 03\n"
   ]
  },
  {
   "cell_type": "markdown",
   "metadata": {
    "editable": false,
    "slideshow": {
     "slide_type": ""
    },
    "tags": []
   },
   "source": [
    "---\n",
    "Prueba del Ejercicio 03"
   ]
  },
  {
   "cell_type": "code",
   "execution_count": null,
   "metadata": {
    "editable": false,
    "slideshow": {
     "slide_type": ""
    },
    "tags": []
   },
   "outputs": [],
   "source": [
    "import unittest\n",
    "from ean_estructuras_datos import Pila, Municipio, pila_municipios\n",
    "\n",
    "# Prueba de Ejercicio03\n",
    "class TestEjercicio03(unittest.TestCase):\n",
    "    def test_ejercicio03(self):\n",
    "        muns = pila_municipios()\n",
    "        self.assertEqual('San Antonio del Tequendama', ejercicio03(muns, 'Cundinamarca').nombre)\n",
    "        self.assertEqual('San Pablo de Borbur', ejercicio03(muns, 'Boyacá').nombre)\n",
    "        self.assertEqual('San Vicente de Chucurí', ejercicio03(muns, 'Santander').nombre)\n",
    "        self.assertEqual('Puerto Santander', ejercicio03(muns, 'Amazonas').nombre)\n",
    "        self.assertEqual('San Pedro de Cartago', ejercicio03(muns, 'Nariño').nombre)\n",
    "        self.assertEqual('Saladoblanco', ejercicio03(muns, 'Huila').nombre)\n",
    "        self.assertEqual('San Jacinto del Cauca', ejercicio03(muns, 'Bolívar').nombre)\n",
    "        self.assertEqual('Belén de Umbría', ejercicio03(muns, 'Risaralda').nombre)\n",
    "        self.assertIsNone(ejercicio03(muns, 'Bogotá'))\n",
    "\n",
    "        print('Prueba superada 😊')\n",
    "\n",
    "\n",
    "# -------------------------------------------------------\n",
    "unittest.main(argv=['', '-v', 'TestEjercicio03'], verbosity=2, exit=False);"
   ]
  },
  {
   "cell_type": "markdown",
   "metadata": {
    "editable": false,
    "slideshow": {
     "slide_type": ""
    },
    "tags": []
   },
   "source": [
    "---\n",
    "\n",
    "## Ejercicio 04 - Buscar un municipio\n",
    "\n",
    "Escriba una función externa llamada `buscar_municipio` que reciba una pila de municipios y un código numérico, y que retorne `True` si se encontró el municipio con ese código en la pila, y `False` si no se encontró. **En este ejercicio no hay un `else` en ninguna parte**. La pila original no debe verse modificada."
   ]
  },
  {
   "cell_type": "code",
   "execution_count": null,
   "metadata": {
    "editable": true,
    "slideshow": {
     "slide_type": ""
    },
    "tags": []
   },
   "outputs": [],
   "source": [
    "from ean_estructuras_datos import Pila, Municipio\n",
    "\n",
    "# Escribir la función buscar_municipio\n"
   ]
  },
  {
   "cell_type": "markdown",
   "metadata": {
    "editable": false,
    "slideshow": {
     "slide_type": ""
    },
    "tags": []
   },
   "source": [
    "---\n",
    "Prueba del ejercicio de buscar_municipio"
   ]
  },
  {
   "cell_type": "code",
   "execution_count": null,
   "metadata": {
    "editable": false,
    "slideshow": {
     "slide_type": ""
    },
    "tags": []
   },
   "outputs": [],
   "source": [
    "import unittest\n",
    "from ean_estructuras_datos import Pila, Municipio, pila_municipios\n",
    "\n",
    "# Prueba de Ejercicio03\n",
    "class TestEjercicio04(unittest.TestCase):\n",
    "    def test_ejercicio04(self):\n",
    "        muns = pila_municipios()\n",
    "        self.assertTrue(buscar_municipio(muns, 1))\n",
    "        self.assertFalse(buscar_municipio(muns, 0))\n",
    "        self.assertTrue(buscar_municipio(muns, 1100))\n",
    "        self.assertFalse(buscar_municipio(muns, -10))\n",
    "        self.assertTrue(buscar_municipio(muns, 850))\n",
    "        self.assertFalse(buscar_municipio(muns, 12_345))\n",
    "        print('Prueba superada 😊')\n",
    "\n",
    "\n",
    "# -------------------------------------------------------\n",
    "unittest.main(argv=['', '-v', 'TestEjercicio04'], verbosity=2, exit=False);"
   ]
  },
  {
   "cell_type": "markdown",
   "metadata": {
    "editable": false,
    "slideshow": {
     "slide_type": ""
    },
    "tags": []
   },
   "source": [
    "---\n",
    "\n",
    "## Ejercicio 05: promedio\n",
    "\n",
    "Escriba una función externa llamada `promedio` que reciba una pila de municipios y que retorne el promedio de la población total de todos los municipios que están en la pila. **La pila original no debe verse modificada**."
   ]
  },
  {
   "cell_type": "code",
   "execution_count": null,
   "metadata": {
    "editable": true,
    "slideshow": {
     "slide_type": ""
    },
    "tags": []
   },
   "outputs": [],
   "source": [
    "from ean_estructuras_datos import Pila, Municipio\n",
    "\n",
    "# Escribir la función promedio\n"
   ]
  },
  {
   "cell_type": "markdown",
   "metadata": {
    "editable": false,
    "slideshow": {
     "slide_type": ""
    },
    "tags": []
   },
   "source": [
    "---\n",
    "Prueba de la función promedio"
   ]
  },
  {
   "cell_type": "code",
   "execution_count": null,
   "metadata": {
    "editable": false,
    "slideshow": {
     "slide_type": ""
    },
    "tags": []
   },
   "outputs": [],
   "source": [
    "import unittest\n",
    "from ean_estructuras_datos import Pila, Municipio, pila_municipios\n",
    "\n",
    "# Prueba de Ejercicio05\n",
    "class TestEjercicio05(unittest.TestCase):\n",
    "    def test_ejercicio05(self):\n",
    "        muns = pila_municipios()\n",
    "        self.assertAlmostEqual(43835.9349, promedio(muns), places=4)\n",
    "        print('Prueba superada 😊')\n",
    "\n",
    "\n",
    "# -------------------------------------------------------\n",
    "unittest.main(argv=['', '-v', 'TestEjercicio05'], verbosity=2, exit=False);"
   ]
  },
  {
   "cell_type": "markdown",
   "metadata": {
    "editable": false,
    "slideshow": {
     "slide_type": ""
    },
    "tags": []
   },
   "source": [
    "---\n",
    "\n",
    "## Ejercicio 06: cantidad municipios menores al promedio\n",
    "\n",
    "Ahora escriba una función externa que se llame `ejercicio06`, que recibe una pila de municipios y que retorna el porcentaje de municipios en la pila que tienen una población total por debajo del promedio de la población total de toda la pila (**CONSEJO**: Use la función `promedio` que hicimos previamente) **La pila original no debe verse modificada**."
   ]
  },
  {
   "cell_type": "code",
   "execution_count": null,
   "metadata": {
    "editable": true,
    "slideshow": {
     "slide_type": ""
    },
    "tags": []
   },
   "outputs": [],
   "source": [
    "from ean_estructuras_datos import Pila, Municipio\n",
    "\n",
    "# Escribir la función ejercicio06\n"
   ]
  },
  {
   "cell_type": "markdown",
   "metadata": {
    "editable": false,
    "slideshow": {
     "slide_type": ""
    },
    "tags": []
   },
   "source": [
    "---\n",
    "Prueba del ejercicio 06"
   ]
  },
  {
   "cell_type": "code",
   "execution_count": null,
   "metadata": {
    "editable": false,
    "slideshow": {
     "slide_type": ""
    },
    "tags": []
   },
   "outputs": [],
   "source": [
    "import unittest\n",
    "from ean_estructuras_datos import Pila, Municipio, pila_municipios\n",
    "\n",
    "# Prueba de Ejercicio06\n",
    "class TestEjercicio06(unittest.TestCase):\n",
    "    def test_ejercicio06(self):\n",
    "        muns = pila_municipios()\n",
    "        self.assertAlmostEqual(86.1854, ejercicio06(muns), places=4)\n",
    "        print('Prueba superada 😊')\n",
    "\n",
    "\n",
    "# -------------------------------------------------------\n",
    "unittest.main(argv=['', '-v', 'TestEjercicio06'], verbosity=2, exit=False);"
   ]
  },
  {
   "cell_type": "markdown",
   "metadata": {
    "editable": false,
    "slideshow": {
     "slide_type": ""
    },
    "tags": []
   },
   "source": [
    "---\n",
    "\n",
    "# Usos adicionales de las pilas\n",
    "\n",
    "Vamos a hacer dos ejercicios que nos ayudarán a comprender el uso tan interesante que tienen las pilas en el mundo de la programación.\n",
    "\n",
    "Los dos ejercicios que vamos a hacer son:\n",
    "\n",
    "1) Balanceo de delimitadores en expresiones aritméticas\n",
    "2) Evaluación de Expresiones en Notación Postfija\n",
    "\n",
    "Realice las dos funciones a continuación, pero primero lea atentamente las instrucciones y los algoritmos."
   ]
  },
  {
   "cell_type": "markdown",
   "metadata": {
    "editable": false,
    "slideshow": {
     "slide_type": ""
    },
    "tags": []
   },
   "source": [
    "---\n",
    "## Saber si una expresión aritmética tiene los paréntesis balanceados\n",
    "\n",
    "Aunque los programadores sólo usamos paréntesis para escribir expresiones aritméticas en Python, los matemáticos utilizan paréntesis, corchetes (o paréntesis cuadrados []) y llaves ({}) para el mismo propósito. Estos delimitadores deben estar emparejados correctamente. Por ejemplo, un paréntesis abierto debe corresponder con su paréntesis cerrado correspondiente. Adicionalmente, un par de delimitadores no se deben intersectar. De esta manera, una expresión puede contener una secuencia de delimitadores como se muestra a continuación: `{[()()]()}`.\n",
    "\n",
    "Pero la siguiente secuencia no está bien: `[(])`.\n",
    "\n",
    "Por conveniencia, diremos que una **expresión balanceada** contiene delimitadores que se\n",
    "emparejan correctamente. Se requiere, entonces, crear un algoritmo que detecte si una expresión matemática está balanceada o no.\n",
    "\n",
    "Por ejemplo, vamos a verificar si la siguiente expresión está balanceada: \n",
    "\n",
    "```\n",
    "a { b [ c (d + e) / 2 -f] + 1}\n",
    "```\n",
    "\n",
    "\n",
    "![Balanceo](https://raw.githubusercontent.com/luiscobo/eands-20250-s1/refs/heads/main/pilas-balanceo-parentesis-01.png)\n",
    "\n",
    "Como vemos, se usó una pila para ir almacenando los delimitadores a medida que los vamos encontrando. Al final, si no hay errores, podemos indicar que la expresión está balanceada. En cambio, la siguiente expresión no está balanceada `{ 𝑎 + [2 ∗ ( 3 + 𝑏 ] − 1)}`, y el comportamiento del algoritmo se muestra a continuación: \n",
    "\n",
    "![Balanceo](https://raw.githubusercontent.com/luiscobo/eands-20250-s1/refs/heads/main/pilas-balanceo-parentesis-02.png)\n",
    "\n",
    "Como vemos, al encontrarse con un delimitador que no empareja con el que está en la pila, tenemos que concluir que la expresión no tiene los delimitadores balanceados.\n",
    "\n",
    "Su misión será escribir una función que reciba una lista de strings que conforman una expresión aritmética (habrá letras, habrá operaciones, habrá números y también delimitadores), y **siguiente obligatoriamente** el siguiente algoritmo, determine si una expresión está bien balanceada o no.\n",
    "\n",
    "```\n",
    "Algoritmo esta_balanceada(lista)\n",
    "    crear una pila para llevar los delimitadores\n",
    "    recorrer con i los índices de la lista:\n",
    "        obtener el elemento en la posición i de la lista\n",
    "        si el elemento es un delimitador de apertura, o sea \"(\", \"[\" o \"{\":\n",
    "            coloque el elemento en el tope de la pila\n",
    "        sino, si el elemento es un delimitador de cierre:\n",
    "            si la pila está vacía:\n",
    "                retorne Falso\n",
    "            fin-si\n",
    "            obtenga el delimitador en el tope de la pila\n",
    "            elimine el tope de la pila\n",
    "            si el elemento y el delimitador no son pareja:\n",
    "                retorne Falso\n",
    "            fin-si\n",
    "        fin-si\n",
    "    fin-recorrido-lista\n",
    "    si la pila está vacía:\n",
    "        retorne Cierto\n",
    "    sino:\n",
    "        retorne Falso\n",
    "    fin-sin\n",
    "fin-Algoritmo\n",
    "            \n",
    "```\n"
   ]
  },
  {
   "cell_type": "code",
   "execution_count": null,
   "metadata": {
    "editable": true,
    "slideshow": {
     "slide_type": ""
    },
    "tags": []
   },
   "outputs": [],
   "source": [
    "# Escribir la función de saber si los paréntesis están balanceados\n",
    "from ean_estructuras_datos import Pila, Lista\n",
    "\n",
    "def esta_balanceada(lista: Lista[str]) -> bool:\n",
    "    pass"
   ]
  },
  {
   "cell_type": "markdown",
   "metadata": {
    "editable": false,
    "slideshow": {
     "slide_type": ""
    },
    "tags": []
   },
   "source": [
    "---\n",
    "Prueba del algoritmo para saber si una expresión está balanceada"
   ]
  },
  {
   "cell_type": "code",
   "execution_count": null,
   "metadata": {
    "editable": false,
    "slideshow": {
     "slide_type": ""
    },
    "tags": []
   },
   "outputs": [],
   "source": [
    "import unittest\n",
    "from ean_estructuras_datos import Pila, dividir_expresion, Lista\n",
    "\n",
    "# Prueba de esta_balanceada\n",
    "class TestAlgoritmoBalanceada(unittest.TestCase):\n",
    "    def test_esta_balanceada(self):\n",
    "        expresion1 = dividir_expresion(\"[a {b / (c - d) + e/( f + g)} - h]\")\n",
    "        self.assertTrue(esta_balanceada(expresion1))\n",
    "        expresion2 = dividir_expresion(\"{a [b + (c + 2)/d ] + e) + f }\")\n",
    "        self.assertFalse(esta_balanceada(expresion2))\n",
    "        expresion3 = dividir_expresion(\"[a {b + [c (d + e) - f ] + g}\")\n",
    "        self.assertFalse(esta_balanceada(expresion3))\n",
    "        print('Prueba superada 😊')\n",
    "\n",
    "\n",
    "# -------------------------------------------------------\n",
    "unittest.main(argv=['', '-v', 'TestAlgoritmoBalanceada'], verbosity=2, exit=False);"
   ]
  },
  {
   "cell_type": "markdown",
   "metadata": {
    "editable": false,
    "slideshow": {
     "slide_type": ""
    },
    "tags": []
   },
   "source": [
    "---\n",
    "# Evaluador de Expresiones Postfijas\n",
    "\n",
    "Una interesante propiedad de la notación postfija es que no necesita de paréntesis para\n",
    "expresar el orden de aplicación de los operadores. La siguiente imagen demuestra como se\n",
    "lleva a cabo la evaluación de expresiones en notación postfija:\n",
    "\n",
    "![Postfijo](https://raw.githubusercontent.com/luiscobo/eands-20250-s1/refs/heads/main/postfijo-evaluacion.png)\n",
    "\n",
    "\n",
    "Una expresión postfija se puede evaluar con la ayuda de una pila usando el siguiente procedimiento:\n",
    "\n",
    "```\n",
    "fun evaluarPostFijo(términos: Lista de términos) -> retorna número \n",
    "      pila <- crear una pila vacía de números\n",
    "      por cada término en la lista de términos\n",
    "            si el término es un número entonces\n",
    "                 colocar el término (convertido a int) en el tope de la pila\n",
    "            sino\n",
    "                 num1 <- obtener el elemento que se encuentra en el tope de la pila\n",
    "                 eliminar el elemento del tope de la pila\n",
    "                 num2 <- obtener el elemento que se encuentra en el tope de la pila\n",
    "                 eliminar el elemento del tope de la pila\n",
    "                 calcular el resultado de aplicar el término a los números num1 y num2\n",
    "                 colocar el resultado en el tope de la pila\n",
    "            fin si\n",
    "      fin por cada            \n",
    "      retornar el elemento que se encuentra en el tope de la pila\n",
    "```\n",
    "\n",
    "Su misión es escribir una función llamada `evaluar_postfija` que reciba una lista\n",
    "de strings con los términos de una expresión postfija y que retorne el resultado de evaluar la expresión utilizando **OBLIGATORIAMENTE** el algoritmo anterior. \n",
    "\n",
    "Puede usar el método `isnumeric()` de Python para saber si el elemento es un número. Las operaciones que vamos a evaluar son solamente suma (+), resta (-), multiplicación (*), división (/) y módulo (%). Los resultados de la división deben ser enteros, o sea, use `//` para dividir en este ejercicio."
   ]
  },
  {
   "cell_type": "code",
   "execution_count": null,
   "metadata": {
    "editable": true,
    "slideshow": {
     "slide_type": ""
    },
    "tags": []
   },
   "outputs": [],
   "source": [
    "# Escribir la función de evaluar_postfija\n",
    "from ean_estructuras_datos import Lista, Pila\n",
    "\n",
    "def evaluar_postfija(lista: Lista[str]) -> int:\n",
    "    pass"
   ]
  },
  {
   "cell_type": "code",
   "execution_count": null,
   "metadata": {
    "editable": false,
    "slideshow": {
     "slide_type": ""
    },
    "tags": []
   },
   "outputs": [],
   "source": [
    "import unittest\n",
    "from ean_estructuras_datos import Pila, dividir_expresion, Lista\n",
    "\n",
    "# Prueba de esta_balanceada\n",
    "class TestEvaluacionPostfija(unittest.TestCase):\n",
    "    def test_evaluar_postfija(self):\n",
    "        expresion1 = dividir_expresion(\"4 5 + 7 2 - *\")\n",
    "        self.assertEqual(45, evaluar_postfija(expresion1))\n",
    "        expresion1 = dividir_expresion(\"1 2 + 4 5 + / \")\n",
    "        self.assertEqual(0, evaluar_postfija(expresion1))\n",
    "        expresion1 = dividir_expresion(\"2 5 4 8 * + % 10 -\")\n",
    "        self.assertEqual(-8, evaluar_postfija(expresion1))\n",
    "        expresion1 = dividir_expresion(\"23 7 19 3 / % 5 2 + * +\")\n",
    "        self.assertEqual(30, evaluar_postfija(expresion1))\n",
    "        print('Prueba superada 😊')\n",
    "\n",
    "\n",
    "# -------------------------------------------------------\n",
    "unittest.main(argv=['', '-v', 'TestEvaluacionPostfija'], verbosity=2, exit=False);"
   ]
  },
  {
   "cell_type": "code",
   "execution_count": null,
   "metadata": {},
   "outputs": [],
   "source": []
  }
 ],
 "metadata": {
  "kernelspec": {
   "display_name": "Python 3 (ipykernel)",
   "language": "python",
   "name": "python3"
  },
  "language_info": {
   "codemirror_mode": {
    "name": "ipython",
    "version": 3
   },
   "file_extension": ".py",
   "mimetype": "text/x-python",
   "name": "python",
   "nbconvert_exporter": "python",
   "pygments_lexer": "ipython3",
   "version": "3.12.2"
  }
 },
 "nbformat": 4,
 "nbformat_minor": 4
}
